{
 "cells": [
  {
   "cell_type": "code",
   "execution_count": 1,
   "metadata": {
    "scrolled": true
   },
   "outputs": [
    {
     "data": {
      "text/plain": [
       "Index(['url', 'price', 'Oferta', 'Kategoria', 'Marka', 'Model', 'Rok',\n",
       "       'Przebieg', 'Rodzaj', 'Moc', 'Skrzynia', 'Napęd', 'Typ', 'Liczba',\n",
       "       'Kolor', 'Możliwość', 'Faktura', 'Kraj', 'Pierwsza', 'Numer',\n",
       "       'Zarejestrowany', 'Pierwszy', 'Bezwypadkowy', 'Stan', 'Wersja',\n",
       "       'Serwisowany', 'VAT', 'Kierownica', 'Leasing', 'distance', 'Uszkodzony',\n",
       "       'Generacja', 'Emisja', 'Okres', 'lub', 'Gwarancja', 'Homologacja',\n",
       "       'Opłata', 'Miesięczna', 'Wartość', 'Filtr', 'Tuning', 'Spalanie'],\n",
       "      dtype='object')"
      ]
     },
     "execution_count": 1,
     "metadata": {},
     "output_type": "execute_result"
    }
   ],
   "source": [
    "import re\n",
    "import pandas as pd\n",
    "\n",
    "pd.set_option(\"max_columns\", 10)\n",
    "\n",
    "df = pd.read_csv('session_electric_used.csv', index_col=0)\n",
    "df.dropna(thresh=4, inplace=True)\n",
    "df.columns"
   ]
  },
  {
   "cell_type": "code",
   "execution_count": 2,
   "metadata": {},
   "outputs": [
    {
     "data": {
      "text/plain": [
       "count        383\n",
       "unique        16\n",
       "top       Polska\n",
       "freq         275\n",
       "Name: Kraj, dtype: object"
      ]
     },
     "execution_count": 2,
     "metadata": {},
     "output_type": "execute_result"
    }
   ],
   "source": [
    "df['Kraj'].describe()"
   ]
  },
  {
   "cell_type": "code",
   "execution_count": 3,
   "metadata": {},
   "outputs": [
    {
     "data": {
      "text/plain": [
       "Biały        225\n",
       "Czarny       101\n",
       "Niebieski     98\n",
       "Szary         81\n",
       "Czerwony      41\n",
       "Innykolor     41\n",
       "Srebrny       32\n",
       "Zielony       18\n",
       "Żółty         13\n",
       "Bordowy       13\n",
       "Name: Kolor, dtype: int64"
      ]
     },
     "execution_count": 3,
     "metadata": {},
     "output_type": "execute_result"
    }
   ],
   "source": [
    "df['Kolor'].value_counts().head(10)"
   ]
  },
  {
   "cell_type": "code",
   "execution_count": 4,
   "metadata": {},
   "outputs": [
    {
     "data": {
      "text/plain": [
       "Automatyczna    687\n",
       "Manualna          1\n",
       "Name: Skrzynia, dtype: int64"
      ]
     },
     "execution_count": 4,
     "metadata": {},
     "output_type": "execute_result"
    }
   ],
   "source": [
    "df['Skrzynia'].value_counts()"
   ]
  },
  {
   "cell_type": "code",
   "execution_count": 5,
   "metadata": {},
   "outputs": [
    {
     "data": {
      "text/html": [
       "<div>\n",
       "<style scoped>\n",
       "    .dataframe tbody tr th:only-of-type {\n",
       "        vertical-align: middle;\n",
       "    }\n",
       "\n",
       "    .dataframe tbody tr th {\n",
       "        vertical-align: top;\n",
       "    }\n",
       "\n",
       "    .dataframe thead th {\n",
       "        text-align: right;\n",
       "    }\n",
       "</style>\n",
       "<table border=\"1\" class=\"dataframe\">\n",
       "  <thead>\n",
       "    <tr style=\"text-align: right;\">\n",
       "      <th></th>\n",
       "      <th>Marka</th>\n",
       "      <th>Model</th>\n",
       "      <th>Rok</th>\n",
       "      <th>price</th>\n",
       "      <th>Przebieg</th>\n",
       "      <th>...</th>\n",
       "      <th>Typ</th>\n",
       "      <th>Kolor</th>\n",
       "      <th>Stan</th>\n",
       "      <th>url</th>\n",
       "      <th>distance</th>\n",
       "    </tr>\n",
       "  </thead>\n",
       "  <tbody>\n",
       "    <tr>\n",
       "      <th>11</th>\n",
       "      <td>Inny</td>\n",
       "      <td>Inny</td>\n",
       "      <td>2010.0</td>\n",
       "      <td>36900</td>\n",
       "      <td>44400km</td>\n",
       "      <td>...</td>\n",
       "      <td>Autamiejskie</td>\n",
       "      <td>Biały</td>\n",
       "      <td>Używane</td>\n",
       "      <td>https://www.otomoto.pl/oferta/germany-e-cars-s...</td>\n",
       "      <td>['- Zasięg na jednym ładowaniu: 100-120 km']</td>\n",
       "    </tr>\n",
       "  </tbody>\n",
       "</table>\n",
       "<p>1 rows × 11 columns</p>\n",
       "</div>"
      ],
      "text/plain": [
       "   Marka Model     Rok  price Przebieg  ...           Typ  Kolor     Stan  \\\n",
       "11  Inny  Inny  2010.0  36900  44400km  ...  Autamiejskie  Biały  Używane   \n",
       "\n",
       "                                                  url  \\\n",
       "11  https://www.otomoto.pl/oferta/germany-e-cars-s...   \n",
       "\n",
       "                                        distance  \n",
       "11  ['- Zasięg na jednym ładowaniu: 100-120 km']  \n",
       "\n",
       "[1 rows x 11 columns]"
      ]
     },
     "execution_count": 5,
     "metadata": {},
     "output_type": "execute_result"
    }
   ],
   "source": [
    "view = ['Marka', 'Model', 'Rok', 'price', 'Przebieg', 'Rodzaj', 'Typ', 'Kolor', 'Stan', 'url', 'distance']\n",
    "df[df['Skrzynia'] == 'Manualna'][view]"
   ]
  },
  {
   "cell_type": "code",
   "execution_count": 6,
   "metadata": {},
   "outputs": [],
   "source": [
    "def get_number(string):\n",
    "    return re.findall(r'\\d+', string)[0]"
   ]
  },
  {
   "cell_type": "code",
   "execution_count": 7,
   "metadata": {},
   "outputs": [
    {
     "data": {
      "text/plain": [
       "dtype('int32')"
      ]
     },
     "execution_count": 7,
     "metadata": {},
     "output_type": "execute_result"
    }
   ],
   "source": [
    "df['price'] = df['price'].apply(lambda x: get_number(x)).astype('int')\n",
    "df['price'].dtype"
   ]
  },
  {
   "cell_type": "code",
   "execution_count": 8,
   "metadata": {},
   "outputs": [
    {
     "data": {
      "text/plain": [
       "2021    189\n",
       "2020    174\n",
       "2018     71\n",
       "2019     61\n",
       "2016     52\n",
       "Name: Rok, dtype: int64"
      ]
     },
     "execution_count": 8,
     "metadata": {},
     "output_type": "execute_result"
    }
   ],
   "source": [
    "df['Rok'] = df['Rok'].astype('int')\n",
    "df['Rok'].value_counts().head(5)"
   ]
  },
  {
   "cell_type": "code",
   "execution_count": 9,
   "metadata": {},
   "outputs": [
    {
     "data": {
      "text/plain": [
       "BMW              96\n",
       "Tesla            80\n",
       "Nissan           62\n",
       "Renault          60\n",
       "Mercedes-Benz    49\n",
       "Kia              40\n",
       "Citroën          34\n",
       "Hyundai          26\n",
       "Smart            25\n",
       "Audi             24\n",
       "Name: Marka, dtype: int64"
      ]
     },
     "execution_count": 9,
     "metadata": {},
     "output_type": "execute_result"
    }
   ],
   "source": [
    "df['Marka'].value_counts().head(10)"
   ]
  },
  {
   "cell_type": "code",
   "execution_count": 10,
   "metadata": {},
   "outputs": [
    {
     "data": {
      "text/plain": [
       "i3        75\n",
       "Leaf      62\n",
       "Zoe       54\n",
       "ModelS    39\n",
       "Model3    25\n",
       "Name: Model, dtype: int64"
      ]
     },
     "execution_count": 10,
     "metadata": {},
     "output_type": "execute_result"
    }
   ],
   "source": [
    "df['Model'].value_counts().head(5)"
   ]
  },
  {
   "cell_type": "code",
   "execution_count": 11,
   "metadata": {},
   "outputs": [
    {
     "data": {
      "text/plain": [
       "i3      75\n",
       "iX3     10\n",
       "iX       9\n",
       "X3       1\n",
       "Inny     1\n",
       "Name: Model, dtype: int64"
      ]
     },
     "execution_count": 11,
     "metadata": {},
     "output_type": "execute_result"
    }
   ],
   "source": [
    "df[df['Marka'] == 'BMW']['Model'].value_counts()"
   ]
  },
  {
   "cell_type": "code",
   "execution_count": 12,
   "metadata": {},
   "outputs": [
    {
     "data": {
      "text/plain": [
       "ModelS    39\n",
       "Model3    25\n",
       "ModelX    14\n",
       "Y          2\n",
       "Name: Model, dtype: int64"
      ]
     },
     "execution_count": 12,
     "metadata": {},
     "output_type": "execute_result"
    }
   ],
   "source": [
    "df[df['Marka'] == 'Tesla']['Model'].value_counts()"
   ]
  },
  {
   "cell_type": "code",
   "execution_count": 13,
   "metadata": {
    "scrolled": true
   },
   "outputs": [
    {
     "data": {
      "text/plain": [
       "EQV       24\n",
       "EQC       12\n",
       "Vito       7\n",
       "EQS        3\n",
       "KlasaV     2\n",
       "Inny       1\n",
       "Name: Model, dtype: int64"
      ]
     },
     "execution_count": 13,
     "metadata": {},
     "output_type": "execute_result"
    }
   ],
   "source": [
    "df[df['Marka'] == 'Mercedes-Benz']['Model'].value_counts()"
   ]
  },
  {
   "cell_type": "code",
   "execution_count": 14,
   "metadata": {},
   "outputs": [
    {
     "data": {
      "text/plain": [
       "Autamiejskie    205\n",
       "SUV             138\n",
       "Kompakt         103\n",
       "Autamałe         94\n",
       "Sedan            89\n",
       "Minivan          40\n",
       "Coupe             9\n",
       "Kombi             8\n",
       "Kabriolet         3\n",
       "Name: Typ, dtype: int64"
      ]
     },
     "execution_count": 14,
     "metadata": {},
     "output_type": "execute_result"
    }
   ],
   "source": [
    "df['Typ'].value_counts().head(10)"
   ]
  },
  {
   "cell_type": "code",
   "execution_count": 15,
   "metadata": {},
   "outputs": [],
   "source": [
    "df['Moc'] = df['Moc'].fillna('0').apply(lambda x: x.rstrip('KM'))"
   ]
  },
  {
   "cell_type": "code",
   "execution_count": 16,
   "metadata": {},
   "outputs": [
    {
     "data": {
      "text/plain": [
       "648    92\n",
       "368    92\n",
       "604    92\n",
       "Name: Moc, dtype: object"
      ]
     },
     "execution_count": 16,
     "metadata": {},
     "output_type": "execute_result"
    }
   ],
   "source": [
    "df['Moc'].sort_values(ascending=False).head(3)"
   ]
  },
  {
   "cell_type": "code",
   "execution_count": 17,
   "metadata": {},
   "outputs": [
    {
     "data": {
      "text/plain": [
       "204    81\n",
       "136    72\n",
       "170    48\n",
       "109    35\n",
       "88     25\n",
       "150    23\n",
       "184    23\n",
       "82     22\n",
       "118    20\n",
       "145    18\n",
       "Name: Moc, dtype: int64"
      ]
     },
     "execution_count": 17,
     "metadata": {},
     "output_type": "execute_result"
    }
   ],
   "source": [
    "df['Moc'].value_counts().head(10)"
   ]
  },
  {
   "cell_type": "code",
   "execution_count": 18,
   "metadata": {},
   "outputs": [
    {
     "data": {
      "text/plain": [
       "Series([], Name: Model, dtype: int64)"
      ]
     },
     "execution_count": 18,
     "metadata": {},
     "output_type": "execute_result"
    }
   ],
   "source": [
    "df[df['Moc'] == '204KM']['Model'].value_counts().head(10)"
   ]
  },
  {
   "cell_type": "code",
   "execution_count": 19,
   "metadata": {},
   "outputs": [
    {
     "data": {
      "text/plain": [
       "Series([], Name: Model, dtype: int64)"
      ]
     },
     "execution_count": 19,
     "metadata": {},
     "output_type": "execute_result"
    }
   ],
   "source": [
    "df[df['Moc'] == '136KM']['Model'].value_counts().head(10)"
   ]
  },
  {
   "cell_type": "code",
   "execution_count": 20,
   "metadata": {},
   "outputs": [
    {
     "data": {
      "text/plain": [
       "Tak    52\n",
       "Name: Uszkodzony, dtype: int64"
      ]
     },
     "execution_count": 20,
     "metadata": {},
     "output_type": "execute_result"
    }
   ],
   "source": [
    "df['Uszkodzony'].value_counts().head(10)"
   ]
  },
  {
   "cell_type": "code",
   "execution_count": 21,
   "metadata": {},
   "outputs": [
    {
     "data": {
      "text/plain": [
       "Tak    237\n",
       "Name: Leasing, dtype: int64"
      ]
     },
     "execution_count": 21,
     "metadata": {},
     "output_type": "execute_result"
    }
   ],
   "source": [
    "df['Leasing'].value_counts().head(10)"
   ]
  },
  {
   "cell_type": "code",
   "execution_count": 22,
   "metadata": {},
   "outputs": [
    {
     "data": {
      "text/plain": [
       "Firmy             512\n",
       "Osobyprywatnej    177\n",
       "Name: Oferta, dtype: int64"
      ]
     },
     "execution_count": 22,
     "metadata": {},
     "output_type": "execute_result"
    }
   ],
   "source": [
    "df['Oferta'].value_counts().head(10)"
   ]
  },
  {
   "cell_type": "code",
   "execution_count": 23,
   "metadata": {},
   "outputs": [
    {
     "data": {
      "text/plain": [
       "Używane    630\n",
       "Nowe        59\n",
       "Name: Stan, dtype: int64"
      ]
     },
     "execution_count": 23,
     "metadata": {},
     "output_type": "execute_result"
    }
   ],
   "source": [
    "df['Stan'].value_counts().head(10)"
   ]
  },
  {
   "cell_type": "code",
   "execution_count": 24,
   "metadata": {
    "scrolled": false
   },
   "outputs": [
    {
     "data": {
      "text/html": [
       "<div>\n",
       "<style scoped>\n",
       "    .dataframe tbody tr th:only-of-type {\n",
       "        vertical-align: middle;\n",
       "    }\n",
       "\n",
       "    .dataframe tbody tr th {\n",
       "        vertical-align: top;\n",
       "    }\n",
       "\n",
       "    .dataframe thead th {\n",
       "        text-align: right;\n",
       "    }\n",
       "</style>\n",
       "<table border=\"1\" class=\"dataframe\">\n",
       "  <thead>\n",
       "    <tr style=\"text-align: right;\">\n",
       "      <th></th>\n",
       "      <th>Marka</th>\n",
       "      <th>Model</th>\n",
       "      <th>Rok</th>\n",
       "      <th>price</th>\n",
       "      <th>Przebieg</th>\n",
       "      <th>...</th>\n",
       "      <th>Typ</th>\n",
       "      <th>Kolor</th>\n",
       "      <th>Stan</th>\n",
       "      <th>url</th>\n",
       "      <th>distance</th>\n",
       "    </tr>\n",
       "  </thead>\n",
       "  <tbody>\n",
       "    <tr>\n",
       "      <th>8</th>\n",
       "      <td>Hyundai</td>\n",
       "      <td>Kona</td>\n",
       "      <td>2021</td>\n",
       "      <td>165000</td>\n",
       "      <td>8205km</td>\n",
       "      <td>...</td>\n",
       "      <td>SUV</td>\n",
       "      <td>Biały</td>\n",
       "      <td>Używane</td>\n",
       "      <td>https://www.otomoto.pl/oferta/hyundai-kona-hyu...</td>\n",
       "      <td>['pompa ciepła, radio, ABS, wspomaganie, skóry...</td>\n",
       "    </tr>\n",
       "    <tr>\n",
       "      <th>9</th>\n",
       "      <td>Tesla</td>\n",
       "      <td>Model3</td>\n",
       "      <td>2020</td>\n",
       "      <td>114900</td>\n",
       "      <td>26691km</td>\n",
       "      <td>...</td>\n",
       "      <td>Sedan</td>\n",
       "      <td>Biały</td>\n",
       "      <td>Używane</td>\n",
       "      <td>https://www.otomoto.pl/oferta/tesla-model-3-st...</td>\n",
       "      <td>['rzeczywisty zasięg ok. 400 km, zimą do 30% m...</td>\n",
       "    </tr>\n",
       "    <tr>\n",
       "      <th>11</th>\n",
       "      <td>Inny</td>\n",
       "      <td>Inny</td>\n",
       "      <td>2010</td>\n",
       "      <td>36900</td>\n",
       "      <td>44400km</td>\n",
       "      <td>...</td>\n",
       "      <td>Autamiejskie</td>\n",
       "      <td>Biały</td>\n",
       "      <td>Używane</td>\n",
       "      <td>https://www.otomoto.pl/oferta/germany-e-cars-s...</td>\n",
       "      <td>['- Zasięg na jednym ładowaniu: 100-120 km']</td>\n",
       "    </tr>\n",
       "    <tr>\n",
       "      <th>16</th>\n",
       "      <td>Hyundai</td>\n",
       "      <td>Kona</td>\n",
       "      <td>2020</td>\n",
       "      <td>135900</td>\n",
       "      <td>19000km</td>\n",
       "      <td>...</td>\n",
       "      <td>SUV</td>\n",
       "      <td>Czerwony</td>\n",
       "      <td>Używane</td>\n",
       "      <td>https://www.otomoto.pl/oferta/hyundai-kona-ele...</td>\n",
       "      <td>['Zasięg  do 480km']</td>\n",
       "    </tr>\n",
       "    <tr>\n",
       "      <th>26</th>\n",
       "      <td>Nissan</td>\n",
       "      <td>Leaf</td>\n",
       "      <td>2012</td>\n",
       "      <td>39360</td>\n",
       "      <td>109800km</td>\n",
       "      <td>...</td>\n",
       "      <td>Kompakt</td>\n",
       "      <td>Biały</td>\n",
       "      <td>Używane</td>\n",
       "      <td>https://www.otomoto.pl/oferta/nissan-leaf-niss...</td>\n",
       "      <td>['        Nissan LEAF pierwszej generacji. W 1...</td>\n",
       "    </tr>\n",
       "    <tr>\n",
       "      <th>...</th>\n",
       "      <td>...</td>\n",
       "      <td>...</td>\n",
       "      <td>...</td>\n",
       "      <td>...</td>\n",
       "      <td>...</td>\n",
       "      <td>...</td>\n",
       "      <td>...</td>\n",
       "      <td>...</td>\n",
       "      <td>...</td>\n",
       "      <td>...</td>\n",
       "      <td>...</td>\n",
       "    </tr>\n",
       "    <tr>\n",
       "      <th>660</th>\n",
       "      <td>Opel</td>\n",
       "      <td>Corsa</td>\n",
       "      <td>2020</td>\n",
       "      <td>111900</td>\n",
       "      <td>3681km</td>\n",
       "      <td>...</td>\n",
       "      <td>Autamiejskie</td>\n",
       "      <td>Innykolor</td>\n",
       "      <td>Używane</td>\n",
       "      <td>https://www.otomoto.pl/oferta/opel-corsa-corsa...</td>\n",
       "      <td>['Pojemność energetyczna akumulatorów 50 kWh –...</td>\n",
       "    </tr>\n",
       "    <tr>\n",
       "      <th>668</th>\n",
       "      <td>Nissan</td>\n",
       "      <td>Leaf</td>\n",
       "      <td>2021</td>\n",
       "      <td>149900</td>\n",
       "      <td>5655km</td>\n",
       "      <td>...</td>\n",
       "      <td>Autamiejskie</td>\n",
       "      <td>Niebieski</td>\n",
       "      <td>Używane</td>\n",
       "      <td>https://www.otomoto.pl/oferta/nissan-leaf-e-le...</td>\n",
       "      <td>['Tryb jazdy ECO (optymalizacja zużycia energi...</td>\n",
       "    </tr>\n",
       "    <tr>\n",
       "      <th>669</th>\n",
       "      <td>Fiat</td>\n",
       "      <td>500</td>\n",
       "      <td>2016</td>\n",
       "      <td>49900</td>\n",
       "      <td>66200km</td>\n",
       "      <td>...</td>\n",
       "      <td>Autamałe</td>\n",
       "      <td>Biały</td>\n",
       "      <td>Używane</td>\n",
       "      <td>https://www.otomoto.pl/oferta/fiat-500-fiat-50...</td>\n",
       "      <td>['Zasięg na jednym ładowaniu średnio 140km-170...</td>\n",
       "    </tr>\n",
       "    <tr>\n",
       "      <th>676</th>\n",
       "      <td>Mercedes-Benz</td>\n",
       "      <td>EQV</td>\n",
       "      <td>2021</td>\n",
       "      <td>364000</td>\n",
       "      <td>7500km</td>\n",
       "      <td>...</td>\n",
       "      <td>Minivan</td>\n",
       "      <td>Niebieski</td>\n",
       "      <td>Używane</td>\n",
       "      <td>https://www.otomoto.pl/oferta/mercedes-benz-eq...</td>\n",
       "      <td>['Zasięg (WLTP): 356km']</td>\n",
       "    </tr>\n",
       "    <tr>\n",
       "      <th>704</th>\n",
       "      <td>Opel</td>\n",
       "      <td>Mokka</td>\n",
       "      <td>2021</td>\n",
       "      <td>146900</td>\n",
       "      <td>12000km</td>\n",
       "      <td>...</td>\n",
       "      <td>SUV</td>\n",
       "      <td>Zielony</td>\n",
       "      <td>Używane</td>\n",
       "      <td>https://www.otomoto.pl/oferta/opel-mokka-opel-...</td>\n",
       "      <td>['Zasięg wg WLTP: ', 'Zasięg: 318 – 324 km wg ...</td>\n",
       "    </tr>\n",
       "  </tbody>\n",
       "</table>\n",
       "<p>161 rows × 11 columns</p>\n",
       "</div>"
      ],
      "text/plain": [
       "             Marka   Model   Rok   price  Przebieg  ...           Typ  \\\n",
       "8          Hyundai    Kona  2021  165000    8205km  ...           SUV   \n",
       "9            Tesla  Model3  2020  114900   26691km  ...         Sedan   \n",
       "11            Inny    Inny  2010   36900   44400km  ...  Autamiejskie   \n",
       "16         Hyundai    Kona  2020  135900   19000km  ...           SUV   \n",
       "26          Nissan    Leaf  2012   39360  109800km  ...       Kompakt   \n",
       "..             ...     ...   ...     ...       ...  ...           ...   \n",
       "660           Opel   Corsa  2020  111900    3681km  ...  Autamiejskie   \n",
       "668         Nissan    Leaf  2021  149900    5655km  ...  Autamiejskie   \n",
       "669           Fiat     500  2016   49900   66200km  ...      Autamałe   \n",
       "676  Mercedes-Benz     EQV  2021  364000    7500km  ...       Minivan   \n",
       "704           Opel   Mokka  2021  146900   12000km  ...           SUV   \n",
       "\n",
       "         Kolor     Stan                                                url  \\\n",
       "8        Biały  Używane  https://www.otomoto.pl/oferta/hyundai-kona-hyu...   \n",
       "9        Biały  Używane  https://www.otomoto.pl/oferta/tesla-model-3-st...   \n",
       "11       Biały  Używane  https://www.otomoto.pl/oferta/germany-e-cars-s...   \n",
       "16    Czerwony  Używane  https://www.otomoto.pl/oferta/hyundai-kona-ele...   \n",
       "26       Biały  Używane  https://www.otomoto.pl/oferta/nissan-leaf-niss...   \n",
       "..         ...      ...                                                ...   \n",
       "660  Innykolor  Używane  https://www.otomoto.pl/oferta/opel-corsa-corsa...   \n",
       "668  Niebieski  Używane  https://www.otomoto.pl/oferta/nissan-leaf-e-le...   \n",
       "669      Biały  Używane  https://www.otomoto.pl/oferta/fiat-500-fiat-50...   \n",
       "676  Niebieski  Używane  https://www.otomoto.pl/oferta/mercedes-benz-eq...   \n",
       "704    Zielony  Używane  https://www.otomoto.pl/oferta/opel-mokka-opel-...   \n",
       "\n",
       "                                              distance  \n",
       "8    ['pompa ciepła, radio, ABS, wspomaganie, skóry...  \n",
       "9    ['rzeczywisty zasięg ok. 400 km, zimą do 30% m...  \n",
       "11        ['- Zasięg na jednym ładowaniu: 100-120 km']  \n",
       "16                                ['Zasięg  do 480km']  \n",
       "26   ['        Nissan LEAF pierwszej generacji. W 1...  \n",
       "..                                                 ...  \n",
       "660  ['Pojemność energetyczna akumulatorów 50 kWh –...  \n",
       "668  ['Tryb jazdy ECO (optymalizacja zużycia energi...  \n",
       "669  ['Zasięg na jednym ładowaniu średnio 140km-170...  \n",
       "676                           ['Zasięg (WLTP): 356km']  \n",
       "704  ['Zasięg wg WLTP: ', 'Zasięg: 318 – 324 km wg ...  \n",
       "\n",
       "[161 rows x 11 columns]"
      ]
     },
     "execution_count": 24,
     "metadata": {},
     "output_type": "execute_result"
    }
   ],
   "source": [
    "df['distance'].fillna(0, inplace=True)\n",
    "df[df['distance'] != 0][view]"
   ]
  },
  {
   "cell_type": "code",
   "execution_count": 25,
   "metadata": {},
   "outputs": [],
   "source": [
    "# ## Drop less popular columns\n",
    "# df.dropna(axis='columns', thresh=600, inplace=True)\n",
    "# df.columns"
   ]
  }
 ],
 "metadata": {
  "kernelspec": {
   "display_name": "Python 3",
   "language": "python",
   "name": "python3"
  },
  "language_info": {
   "codemirror_mode": {
    "name": "ipython",
    "version": 3
   },
   "file_extension": ".py",
   "mimetype": "text/x-python",
   "name": "python",
   "nbconvert_exporter": "python",
   "pygments_lexer": "ipython3",
   "version": "3.7.4"
  }
 },
 "nbformat": 4,
 "nbformat_minor": 2
}
